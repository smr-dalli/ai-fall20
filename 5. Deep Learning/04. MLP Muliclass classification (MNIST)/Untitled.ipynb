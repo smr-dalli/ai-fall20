{
 "cells": [
  {
   "cell_type": "code",
   "execution_count": 10,
   "id": "nutritional-freedom",
   "metadata": {},
   "outputs": [
    {
     "name": "stdout",
     "output_type": "stream",
     "text": [
      "Collecting sklearn\n",
      "  Using cached sklearn-0.0-py2.py3-none-any.whl\n",
      "Collecting scikit-learn\n",
      "  Using cached scikit_learn-0.24.1-cp38-cp38-win_amd64.whl (6.9 MB)\n",
      "Requirement already satisfied: scipy>=0.19.1 in c:\\users\\user\\anaconda3\\envs\\pytorch\\lib\\site-packages (from scikit-learn->sklearn) (1.6.1)\n",
      "Collecting joblib>=0.11\n",
      "  Using cached joblib-1.0.1-py3-none-any.whl (303 kB)\n",
      "Requirement already satisfied: numpy>=1.13.3 in c:\\users\\user\\anaconda3\\envs\\pytorch\\lib\\site-packages (from scikit-learn->sklearn) (1.19.2)\n",
      "Collecting threadpoolctl>=2.0.0\n",
      "  Using cached threadpoolctl-2.1.0-py3-none-any.whl (12 kB)\n",
      "Installing collected packages: threadpoolctl, joblib, scikit-learn, sklearn\n",
      "Successfully installed joblib-1.0.1 scikit-learn-0.24.1 sklearn-0.0 threadpoolctl-2.1.0\n"
     ]
    }
   ],
   "source": [
    "!pip install sklearn"
   ]
  },
  {
   "cell_type": "code",
   "execution_count": 17,
   "id": "injured-reservoir",
   "metadata": {},
   "outputs": [
    {
     "data": {
      "text/plain": [
       "array([[0.06877054, 0.02167994],\n",
       "       [0.24679222, 0.14692407],\n",
       "       [0.27299398, 0.35942812],\n",
       "       [0.3826314 , 0.38356756],\n",
       "       [0.38414558, 0.44146576],\n",
       "       [0.44146166, 0.46543392],\n",
       "       [0.56049057, 0.57856183],\n",
       "       [0.62417854, 0.63564001],\n",
       "       [0.66192213, 0.69185868],\n",
       "       [0.8948032 , 0.88075746]])"
      ]
     },
     "execution_count": 17,
     "metadata": {},
     "output_type": "execute_result"
    }
   ],
   "source": [
    "import random\n",
    "import numpy as np\n",
    "x = np.sort(np.random.RandomState(42).normal(0.5,0.25,size = (10,2)),axis = 0)\n",
    "x"
   ]
  },
  {
   "cell_type": "code",
   "execution_count": 18,
   "id": "legal-tutorial",
   "metadata": {},
   "outputs": [
    {
     "data": {
      "text/plain": [
       "array([[0.        , 0.        ],\n",
       "       [0.11111111, 0.11111111],\n",
       "       [0.22222222, 0.22222222],\n",
       "       [0.33333333, 0.33333333],\n",
       "       [0.44444444, 0.44444444],\n",
       "       [0.55555556, 0.55555556],\n",
       "       [0.66666667, 0.66666667],\n",
       "       [0.77777778, 0.77777778],\n",
       "       [0.88888889, 0.88888889],\n",
       "       [1.        , 1.        ]])"
      ]
     },
     "execution_count": 18,
     "metadata": {},
     "output_type": "execute_result"
    }
   ],
   "source": [
    "from sklearn.preprocessing import QuantileTransformer, quantile_transform\n",
    "quantile_transform(x,n_quantiles = 10,random_state = 42)\n",
    "\n"
   ]
  }
 ],
 "metadata": {
  "kernelspec": {
   "display_name": "Python 3",
   "language": "python",
   "name": "python3"
  },
  "language_info": {
   "codemirror_mode": {
    "name": "ipython",
    "version": 3
   },
   "file_extension": ".py",
   "mimetype": "text/x-python",
   "name": "python",
   "nbconvert_exporter": "python",
   "pygments_lexer": "ipython3",
   "version": "3.8.5"
  }
 },
 "nbformat": 4,
 "nbformat_minor": 5
}
